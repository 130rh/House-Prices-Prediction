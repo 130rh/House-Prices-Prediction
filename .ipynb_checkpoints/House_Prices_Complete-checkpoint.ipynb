{
 "cells": [
  {
   "cell_type": "markdown",
   "id": "68953b67",
   "metadata": {},
   "source": [
    "## Загрузка данных и первичный анализ"
   ]
  },
  {
   "cell_type": "code",
   "execution_count": null,
   "id": "01b7858b",
   "metadata": {},
   "outputs": [],
   "source": [
    "\n",
    "import pandas as pd\n",
    "import seaborn as sns\n",
    "import matplotlib.pyplot as plt\n",
    "\n",
    "train = pd.read_csv('train (1).csv')\n",
    "test = pd.read_csv('test (1).csv')\n",
    "\n",
    "print(\"Первые строки обучающего датасета:\")\n",
    "print(train.head())\n",
    "\n",
    "print(\"Количество пропусков:\")\n",
    "print(train.isnull().sum())\n",
    "\n",
    "print(\"Статистика по числовым признакам:\")\n",
    "print(train.describe())\n",
    "    "
   ]
  },
  {
   "cell_type": "markdown",
   "id": "931228a9",
   "metadata": {},
   "source": [
    "## Чистка данных и заполнение пропусков"
   ]
  },
  {
   "cell_type": "code",
   "execution_count": null,
   "id": "2bd66cf9",
   "metadata": {},
   "outputs": [],
   "source": [
    "\n",
    "train_clean = train.drop(columns=['Id'])\n",
    "\n",
    "categorical_cols = train_clean.select_dtypes(include=['object']).columns\n",
    "numerical_cols = train_clean.select_dtypes(include=['int64', 'float64']).columns\n",
    "\n",
    "train_clean[categorical_cols] = train_clean[categorical_cols].fillna('None')\n",
    "train_clean[numerical_cols] = train_clean[numerical_cols].fillna(train_clean[numerical_cols].median())\n",
    "    "
   ]
  },
  {
   "cell_type": "markdown",
   "id": "6d77c325",
   "metadata": {},
   "source": [
    "## Визуализация"
   ]
  },
  {
   "cell_type": "code",
   "execution_count": null,
   "id": "e2aa4750",
   "metadata": {},
   "outputs": [],
   "source": [
    "\n",
    "sns.histplot(train_clean['SalePrice'], kde=True)\n",
    "plt.title('Распределение SalePrice')\n",
    "plt.show()\n",
    "\n",
    "sns.scatterplot(x=train_clean['GrLivArea'], y=train_clean['SalePrice'])\n",
    "plt.title('GrLivArea vs SalePrice')\n",
    "plt.show()\n",
    "\n",
    "corr_matrix = train_clean.corr()\n",
    "plt.figure(figsize=(12, 8))\n",
    "sns.heatmap(corr_matrix, annot=True, fmt='.2f', cmap='coolwarm')\n",
    "plt.title('Корреляционная матрица')\n",
    "plt.show()\n",
    "    "
   ]
  },
  {
   "cell_type": "markdown",
   "id": "b9254578",
   "metadata": {},
   "source": [
    "## Удаление выбросов"
   ]
  },
  {
   "cell_type": "code",
   "execution_count": null,
   "id": "fc9535d2",
   "metadata": {},
   "outputs": [],
   "source": [
    "\n",
    "Q1 = train_clean['GrLivArea'].quantile(0.25)\n",
    "Q3 = train_clean['GrLivArea'].quantile(0.75)\n",
    "IQR = Q3 - Q1\n",
    "outliers = train_clean[(train_clean['GrLivArea'] < (Q1 - 1.5 * IQR)) | (train_clean['GrLivArea'] > (Q3 + 1.5 * IQR))]\n",
    "\n",
    "print(f\"Количество аномалий GrLivArea: {len(outliers)}\")\n",
    "\n",
    "train_clean = train_clean[~train_clean.index.isin(outliers.index)]\n",
    "    "
   ]
  },
  {
   "cell_type": "markdown",
   "id": "58c9378e",
   "metadata": {},
   "source": [
    "## Кодирование категориальных признаков"
   ]
  },
  {
   "cell_type": "code",
   "execution_count": null,
   "id": "7822ed32",
   "metadata": {},
   "outputs": [],
   "source": [
    "\n",
    "from sklearn.preprocessing import LabelEncoder\n",
    "\n",
    "encoder = LabelEncoder()\n",
    "for col in train_clean.select_dtypes(include=['object']).columns:\n",
    "    train_clean[col] = encoder.fit_transform(train_clean[col].astype(str))\n",
    "    "
   ]
  },
  {
   "cell_type": "markdown",
   "id": "0e2901fc",
   "metadata": {},
   "source": [
    "## Деление данных и стандартизация"
   ]
  },
  {
   "cell_type": "code",
   "execution_count": null,
   "id": "29c78414",
   "metadata": {},
   "outputs": [],
   "source": [
    "\n",
    "from sklearn.model_selection import train_test_split\n",
    "from sklearn.preprocessing import StandardScaler\n",
    "\n",
    "X = train_clean.drop(columns=['SalePrice'])\n",
    "y = train_clean['SalePrice']\n",
    "\n",
    "X_train, X_test, y_train, y_test = train_test_split(X, y, test_size=0.2, random_state=42)\n",
    "\n",
    "scaler = StandardScaler()\n",
    "X_train_scaled = scaler.fit_transform(X_train)\n",
    "X_test_scaled = scaler.transform(X_test)\n",
    "    "
   ]
  },
  {
   "cell_type": "markdown",
   "id": "ab68f305",
   "metadata": {},
   "source": [
    "## Линейная регрессия"
   ]
  },
  {
   "cell_type": "code",
   "execution_count": null,
   "id": "8700bdfa",
   "metadata": {},
   "outputs": [],
   "source": [
    "\n",
    "from sklearn.linear_model import LinearRegression\n",
    "from sklearn.metrics import mean_squared_error, r2_score\n",
    "\n",
    "model_lr = LinearRegression()\n",
    "model_lr.fit(X_train_scaled, y_train)\n",
    "y_pred = model_lr.predict(X_test_scaled)\n",
    "\n",
    "print(f\"Линейная регрессия MSE: {mean_squared_error(y_test, y_pred):.2f}\")\n",
    "print(f\"Линейная регрессия R2: {r2_score(y_test, y_pred):.2f}\")\n",
    "    "
   ]
  },
  {
   "cell_type": "markdown",
   "id": "84a393f5",
   "metadata": {},
   "source": [
    "## Случайный лес + важность признаков"
   ]
  },
  {
   "cell_type": "code",
   "execution_count": null,
   "id": "b12c7028",
   "metadata": {},
   "outputs": [],
   "source": [
    "\n",
    "from sklearn.ensemble import RandomForestRegressor\n",
    "\n",
    "forest = RandomForestRegressor(n_estimators=100, random_state=42)\n",
    "forest.fit(X_train_scaled, y_train)\n",
    "\n",
    "importances = forest.feature_importances_\n",
    "feature_importance_df = pd.DataFrame({'Признак': X.columns, 'Важность': importances}).sort_values(by='Важность', ascending=False)\n",
    "\n",
    "print(feature_importance_df.head(15))\n",
    "\n",
    "import seaborn as sns\n",
    "import matplotlib.pyplot as plt\n",
    "plt.figure(figsize=(10, 6))\n",
    "sns.barplot(data=feature_importance_df.head(15), x='Важность', y='Признак')\n",
    "plt.title('Топ-15 важных признаков')\n",
    "plt.show()\n",
    "    "
   ]
  },
  {
   "cell_type": "markdown",
   "id": "9016e4d3",
   "metadata": {},
   "source": [
    "## Кросс-валидация"
   ]
  },
  {
   "cell_type": "code",
   "execution_count": null,
   "id": "2b921f54",
   "metadata": {},
   "outputs": [],
   "source": [
    "\n",
    "from sklearn.model_selection import cross_val_score\n",
    "import numpy as np\n",
    "\n",
    "scores = cross_val_score(forest, X_train_scaled, y_train, cv=5, scoring='r2')\n",
    "\n",
    "print(f\"R2 по фолдам: {scores}\")\n",
    "print(f\"Среднее R2: {np.mean(scores):.2f}\")\n",
    "    "
   ]
  },
  {
   "cell_type": "markdown",
   "id": "93e04493",
   "metadata": {},
   "source": [
    "## XGBoost и нейросеть"
   ]
  },
  {
   "cell_type": "code",
   "execution_count": null,
   "id": "2452ed80",
   "metadata": {},
   "outputs": [],
   "source": [
    "\n",
    "from xgboost import XGBRegressor\n",
    "from sklearn.neural_network import MLPRegressor\n",
    "\n",
    "xgb = XGBRegressor(n_estimators=100, learning_rate=0.1, random_state=42)\n",
    "xgb.fit(X_train_scaled, y_train)\n",
    "xgb_pred = xgb.predict(X_test_scaled)\n",
    "print(f\"XGBoost MSE: {mean_squared_error(y_test, xgb_pred):.2f}\")\n",
    "print(f\"XGBoost R2: {r2_score(y_test, xgb_pred):.2f}\")\n",
    "\n",
    "mlp = MLPRegressor(hidden_layer_sizes=(100, 50), max_iter=2000, random_state=42)\n",
    "mlp.fit(X_train_scaled, y_train)\n",
    "mlp_pred = mlp.predict(X_test_scaled)\n",
    "print(f\"Нейросеть MSE: {mean_squared_error(y_test, mlp_pred):.2f}\")\n",
    "print(f\"Нейросеть R2: {r2_score(y_test, mlp_pred):.2f}\")\n",
    "    "
   ]
  }
 ],
 "metadata": {},
 "nbformat": 4,
 "nbformat_minor": 5
}
