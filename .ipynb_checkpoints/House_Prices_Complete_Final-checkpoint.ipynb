{
 "cells": [
  {
   "cell_type": "markdown",
   "id": "f214d0df",
   "metadata": {},
   "source": [
    "## Загрузка и первичный анализ данных"
   ]
  },
  {
   "cell_type": "code",
   "execution_count": null,
   "id": "6242cdb5",
   "metadata": {},
   "outputs": [],
   "source": [
    "\n",
    "import pandas as pd\n",
    "import seaborn as sns\n",
    "import matplotlib.pyplot as plt\n",
    "\n",
    "train = pd.read_csv('train (1).csv')\n",
    "test = pd.read_csv('test (1).csv')\n",
    "\n",
    "print(train.head())\n",
    "print(train.shape)\n",
    "print(train.isnull().sum())\n",
    "print(train.describe())\n",
    "    "
   ]
  },
  {
   "cell_type": "markdown",
   "id": "04ae3b1c",
   "metadata": {},
   "source": [
    "## Чистка данных и обработка пропусков"
   ]
  },
  {
   "cell_type": "code",
   "execution_count": null,
   "id": "0fe85be9",
   "metadata": {},
   "outputs": [],
   "source": [
    "\n",
    "cols_to_drop = ['PoolQC', 'MiscFeature', 'Alley', 'Fence', 'FireplaceQu', 'Id']\n",
    "train_clean = train.drop(columns=cols_to_drop)\n",
    "\n",
    "categorical_cols = train_clean.select_dtypes(include=['object']).columns\n",
    "numerical_cols = train_clean.select_dtypes(include=['int64', 'float64']).columns\n",
    "\n",
    "train_clean[categorical_cols] = train_clean[categorical_cols].fillna('None')\n",
    "train_clean[numerical_cols] = train_clean[numerical_cols].fillna(train_clean[numerical_cols].median())\n",
    "\n",
    "print(train_clean.isnull().sum())\n",
    "    "
   ]
  },
  {
   "cell_type": "markdown",
   "id": "b3a18386",
   "metadata": {},
   "source": [
    "## Визуализация распределения и связей"
   ]
  },
  {
   "cell_type": "code",
   "execution_count": null,
   "id": "f22636d0",
   "metadata": {},
   "outputs": [],
   "source": [
    "\n",
    "sns.histplot(train_clean['SalePrice'], kde=True)\n",
    "plt.title('Распределение SalePrice')\n",
    "plt.show()\n",
    "\n",
    "sns.scatterplot(x=train_clean['GrLivArea'], y=train_clean['SalePrice'])\n",
    "plt.title('GrLivArea vs SalePrice')\n",
    "plt.show()\n",
    "\n",
    "corr_matrix = train_clean.select_dtypes(include=['int64', 'float64']).corr()\n",
    "corr_target = corr_matrix['SalePrice'].abs().sort_values(ascending=False).index\n",
    "sorted_corr_matrix = corr_matrix.loc[corr_target, corr_target]\n",
    "\n",
    "plt.figure(figsize=(14, 10))\n",
    "sns.heatmap(sorted_corr_matrix, annot=True, fmt=\".2f\", cmap=\"coolwarm\", annot_kws={\"size\":7})\n",
    "plt.title('Корреляционная матрица (отсортирована по SalePrice)')\n",
    "plt.xticks(rotation=45, ha='right')\n",
    "plt.yticks(rotation=0)\n",
    "plt.show()\n",
    "    "
   ]
  },
  {
   "cell_type": "markdown",
   "id": "e9da4332",
   "metadata": {},
   "source": [
    "## Удаление выбросов"
   ]
  },
  {
   "cell_type": "code",
   "execution_count": null,
   "id": "75ec612d",
   "metadata": {},
   "outputs": [],
   "source": [
    "\n",
    "Q1 = train_clean['GrLivArea'].quantile(0.25)\n",
    "Q3 = train_clean['GrLivArea'].quantile(0.75)\n",
    "IQR = Q3 - Q1\n",
    "outliers = train_clean[(train_clean['GrLivArea'] < (Q1 - 1.5 * IQR)) | (train_clean['GrLivArea'] > (Q3 + 1.5 * IQR))]\n",
    "\n",
    "print(f\"Количество аномалий GrLivArea: {len(outliers)}\")\n",
    "\n",
    "train_clean = train_clean[~train_clean.index.isin(outliers.index)]\n",
    "    "
   ]
  },
  {
   "cell_type": "markdown",
   "id": "0db2ca0f",
   "metadata": {},
   "source": [
    "## Кодирование категориальных признаков"
   ]
  },
  {
   "cell_type": "code",
   "execution_count": null,
   "id": "9e8a2f33",
   "metadata": {},
   "outputs": [],
   "source": [
    "\n",
    "from sklearn.preprocessing import LabelEncoder\n",
    "\n",
    "encoder = LabelEncoder()\n",
    "for col in train_clean.select_dtypes(include=['object']).columns:\n",
    "    train_clean[col] = encoder.fit_transform(train_clean[col].astype(str))\n",
    "    "
   ]
  },
  {
   "cell_type": "markdown",
   "id": "38ee1084",
   "metadata": {},
   "source": [
    "## Деление данных и стандартизация"
   ]
  },
  {
   "cell_type": "code",
   "execution_count": null,
   "id": "bfbedd61",
   "metadata": {},
   "outputs": [],
   "source": [
    "\n",
    "from sklearn.model_selection import train_test_split\n",
    "from sklearn.preprocessing import StandardScaler\n",
    "\n",
    "X = train_clean.drop(columns=['SalePrice'])\n",
    "y = train_clean['SalePrice']\n",
    "\n",
    "X_train, X_test, y_train, y_test = train_test_split(X, y, test_size=0.2, random_state=42)\n",
    "\n",
    "scaler = StandardScaler()\n",
    "X_train_scaled = scaler.fit_transform(X_train)\n",
    "X_test_scaled = scaler.transform(X_test)\n",
    "    "
   ]
  },
  {
   "cell_type": "markdown",
   "id": "edff1f9f",
   "metadata": {},
   "source": [
    "## Линейная регрессия"
   ]
  },
  {
   "cell_type": "code",
   "execution_count": null,
   "id": "a9583890",
   "metadata": {},
   "outputs": [],
   "source": [
    "\n",
    "from sklearn.linear_model import LinearRegression\n",
    "from sklearn.metrics import mean_squared_error, r2_score\n",
    "\n",
    "model_lr = LinearRegression()\n",
    "model_lr.fit(X_train_scaled, y_train)\n",
    "y_pred = model_lr.predict(X_test_scaled)\n",
    "\n",
    "print(f\"Линейная регрессия MSE: {mean_squared_error(y_test, y_pred):.2f}\")\n",
    "print(f\"Линейная регрессия R2: {r2_score(y_test, y_pred):.2f}\")\n",
    "    "
   ]
  },
  {
   "cell_type": "markdown",
   "id": "a0fa1190",
   "metadata": {},
   "source": [
    "## Случайный лес и важность признаков"
   ]
  },
  {
   "cell_type": "code",
   "execution_count": null,
   "id": "74ff3a9a",
   "metadata": {},
   "outputs": [],
   "source": [
    "\n",
    "from sklearn.ensemble import RandomForestRegressor\n",
    "\n",
    "forest = RandomForestRegressor(n_estimators=100, random_state=42)\n",
    "forest.fit(X_train_scaled, y_train)\n",
    "\n",
    "importances = forest.feature_importances_\n",
    "feature_importance_df = pd.DataFrame({'Признак': X.columns, 'Важность': importances}).sort_values(by='Важность', ascending=False)\n",
    "\n",
    "print(feature_importance_df.head(15))\n",
    "\n",
    "plt.figure(figsize=(10, 6))\n",
    "sns.barplot(data=feature_importance_df.head(15), x='Важность', y='Признак')\n",
    "plt.title('Топ-15 важных признаков')\n",
    "plt.show()\n",
    "    "
   ]
  },
  {
   "cell_type": "markdown",
   "id": "b3c0a4c1",
   "metadata": {},
   "source": [
    "## Кросс-валидация"
   ]
  },
  {
   "cell_type": "code",
   "execution_count": null,
   "id": "6aa949ee",
   "metadata": {},
   "outputs": [],
   "source": [
    "\n",
    "from sklearn.model_selection import cross_val_score\n",
    "import numpy as np\n",
    "\n",
    "scores = cross_val_score(forest, X_train_scaled, y_train, cv=5, scoring='r2')\n",
    "\n",
    "print(f\"R2 по фолдам: {scores}\")\n",
    "print(f\"Среднее R2: {np.mean(scores):.2f}\")\n",
    "    "
   ]
  },
  {
   "cell_type": "markdown",
   "id": "bad533f8",
   "metadata": {},
   "source": [
    "## XGBoost и нейросеть"
   ]
  },
  {
   "cell_type": "code",
   "execution_count": null,
   "id": "af59da22",
   "metadata": {},
   "outputs": [],
   "source": [
    "\n",
    "from xgboost import XGBRegressor\n",
    "from sklearn.neural_network import MLPRegressor\n",
    "\n",
    "xgb = XGBRegressor(n_estimators=100, learning_rate=0.1, random_state=42)\n",
    "xgb.fit(X_train_scaled, y_train)\n",
    "xgb_pred = xgb.predict(X_test_scaled)\n",
    "print(f\"XGBoost MSE: {mean_squared_error(y_test, xgb_pred):.2f}\")\n",
    "print(f\"XGBoost R2: {r2_score(y_test, xgb_pred):.2f}\")\n",
    "\n",
    "mlp = MLPRegressor(hidden_layer_sizes=(100, 50), max_iter=2000, random_state=42)\n",
    "mlp.fit(X_train_scaled, y_train)\n",
    "mlp_pred = mlp.predict(X_test_scaled)\n",
    "print(f\"Нейросеть MSE: {mean_squared_error(y_test, mlp_pred):.2f}\")\n",
    "print(f\"Нейросеть R2: {r2_score(y_test, mlp_pred):.2f}\")\n",
    "    "
   ]
  }
 ],
 "metadata": {},
 "nbformat": 4,
 "nbformat_minor": 5
}
